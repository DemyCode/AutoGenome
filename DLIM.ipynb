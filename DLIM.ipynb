{
  "nbformat": 4,
  "nbformat_minor": 0,
  "metadata": {
    "colab": {
      "name": "DLIM.ipynb",
      "provenance": [],
      "authorship_tag": "ABX9TyOwqj9bjFFTVIl6s+j1kk+g",
      "include_colab_link": true
    },
    "kernelspec": {
      "name": "python3",
      "display_name": "Python 3"
    }
  },
  "cells": [
    {
      "cell_type": "markdown",
      "metadata": {
        "id": "view-in-github",
        "colab_type": "text"
      },
      "source": [
        "<a href=\"https://colab.research.google.com/github/DemyCode/AutoGenome/blob/master/DLIM.ipynb\" target=\"_parent\"><img src=\"https://colab.research.google.com/assets/colab-badge.svg\" alt=\"Open In Colab\"/></a>"
      ]
    },
    {
      "cell_type": "code",
      "metadata": {
        "id": "ftPv5kUpTxnv"
      },
      "source": [
        "\"pipi\""
      ],
      "execution_count": null,
      "outputs": []
    },
    {
      "cell_type": "code",
      "metadata": {
        "id": "SnAJFT_vUsJn"
      },
      "source": [
        "\"caca\""
      ],
      "execution_count": null,
      "outputs": []
    }
  ]
}